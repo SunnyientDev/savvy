{
 "cells": [
  {
   "cell_type": "code",
   "outputs": [],
   "source": [
    "from random import randint\n",
    "import pandas as pd\n",
    "from savvy import std_stat"
   ],
   "metadata": {
    "collapsed": false,
    "ExecuteTime": {
     "end_time": "2024-03-21T12:59:14.705906Z",
     "start_time": "2024-03-21T12:59:14.700996Z"
    }
   },
   "id": "c67767b70f35a24e",
   "execution_count": 99
  },
  {
   "cell_type": "code",
   "execution_count": 100,
   "id": "initial_id",
   "metadata": {
    "collapsed": true,
    "ExecuteTime": {
     "end_time": "2024-03-21T12:59:14.971417Z",
     "start_time": "2024-03-21T12:59:14.967314Z"
    }
   },
   "outputs": [],
   "source": [
    "values = [randint(1, 10) for i in range(100)]"
   ]
  },
  {
   "cell_type": "code",
   "outputs": [],
   "source": [
    "import matplotlib.pyplot as plt\n",
    "def plot_frequency_histogram(values: list) -> None:\n",
    "    groups = std_stat.equal_spaced_grouping(values)\n",
    "    h = groups['parameters']['h']\n",
    "    groups = groups['groups']\n",
    "    groups['n_i/h'] = [i/h for i in groups['counts']]\n",
    "    mins = [round(i, 2) for i in groups['x_min']]\n",
    "    print(mins)\n",
    "    plt.bar(mins, groups['n_i/h'], width=h, align='edge', edgecolor='b')\n",
    "    plt.grid()\n",
    "    labels = [round(i, 2) for i in list(set(groups['x_min'] + groups['x_max']))]\n",
    "    plt.xticks([i*h for i in range(0, len(labels))], labels)\n",
    "    plt.show()"
   ],
   "metadata": {
    "collapsed": false,
    "ExecuteTime": {
     "end_time": "2024-03-21T13:02:45.008047Z",
     "start_time": "2024-03-21T13:02:45.005904Z"
    }
   },
   "id": "29e78f4a1ec1849e",
   "execution_count": 107
  },
  {
   "cell_type": "code",
   "outputs": [
    {
     "name": "stdout",
     "output_type": "stream",
     "text": [
      "[1.0, 2.29, 3.57, 4.86, 6.14, 7.43, 8.71]\n"
     ]
    },
    {
     "data": {
      "text/plain": "<Figure size 640x480 with 1 Axes>",
      "image/png": "[encoded data removed]"
     },
     "metadata": {},
     "output_type": "display_data"
    }
   ],
   "source": [
    "plot_frequency_histogram(values)"
   ],
   "metadata": {
    "collapsed": false,
    "ExecuteTime": {
     "end_time": "2024-03-21T13:02:45.252372Z",
     "start_time": "2024-03-21T13:02:45.194097Z"
    }
   },
   "id": "960a60b24eefb420",
   "execution_count": 108
  },
  {
   "cell_type": "code",
   "outputs": [],
   "source": [],
   "metadata": {
    "collapsed": false,
    "ExecuteTime": {
     "end_time": "2024-03-19T17:57:01.899831Z",
     "start_time": "2024-03-19T17:57:01.898267Z"
    }
   },
   "id": "3f65074622e3d631",
   "execution_count": 54
  },
  {
   "cell_type": "code",
   "outputs": [],
   "source": [],
   "metadata": {
    "collapsed": false
   },
   "id": "db6d295a58ba98e4"
  }
 ],
 "metadata": {
  "kernelspec": {
   "display_name": "Python 3",
   "language": "python",
   "name": "python3"
  },
  "language_info": {
   "codemirror_mode": {
    "name": "ipython",
    "version": 2
   },
   "file_extension": ".py",
   "mimetype": "text/x-python",
   "name": "python",
   "nbconvert_exporter": "python",
   "pygments_lexer": "ipython2",
   "version": "2.7.6"
  }
 },
 "nbformat": 4,
 "nbformat_minor": 5
}
