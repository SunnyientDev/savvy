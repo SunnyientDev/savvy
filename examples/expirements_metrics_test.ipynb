{
 "cells": [
  {
   "cell_type": "markdown",
   "source": [
    "# Оптимальный дизайн эксперимента\n",
    "В этом задании мы научимся подбирать оптимальный дизайн эксперимента и рассчитаем размер выборки для достижения заданной мощности.\n",
    "\n",
    "Для того, чтобы поработать с данными, вам нужно будет сначала выгрузить их из базы. Помните, где лежат наши таблицы? Верно, в ClickHouse! Вспоминайте логин-пароль и переходите к следующему степу – начнем с написания запроса для получения нужной выборки.\n",
    "\n",
    "Задание будет состоять из четырех задач.\n",
    "\n",
    "Общее количество баллов за задание: 100 баллов."
   ],
   "metadata": {
    "collapsed": false
   },
   "id": "5ccebfdf32d8b8e5"
  },
  {
   "cell_type": "markdown",
   "source": [
    "Сделаем нужную выгрузку.\n",
    "\n",
    "Подготовьте SQL запрос для клиентов, совершивших оплату в Москве в период с 11 по 16 октября 2022 г. за услугу \"premium\".\n",
    "\n",
    "Пояснения для формирования SQL запроса:\n",
    "\n",
    "1) Используйте таблицу user_transactions, чтобы оставить только тех пользователей, кто воспользовался платными услугами 'premium' в указанный период. Размер выручки от каждого покупателя услуги считается как сумма всех списанных денег (amount) при условии sign = -1 (т.е. деньги были списаны со счета покупателя).\n",
    "\n",
    "2) Используйте таблицу dp_live_adverts для того, чтобы оставить объявления, размещенные в Москве. Обратите внимание, что одно и то же объявление может быть опубликовано в течение длительного периода (execution_date), а оплата за услугу может быть произведена в выборочные дни (payment_date). Учитывайте дату платежа и номер объявления при join'e таблиц.\n",
    "\n",
    "3) Из запроса сформируйте датасет, включающий данные по выручке, которую приносит каждый пользователь (нужно взять passport_id !) в Москве за указанное время.\n",
    "\n",
    "Чтобы убедиться, что вы все сделали правильно, ответьте на следующий вопрос."
   ],
   "metadata": {
    "collapsed": false
   },
   "id": "ce60cca0c18a86a5"
  },
  {
   "cell_type": "code",
   "outputs": [],
   "source": [
    "from clickhouse_driver import Client \n",
    "\n",
    "# Создаем соединение с ClickHouse \n",
    "client = Client(host='clickhouse.lab.karpov.courses', port=9000, user='ваш логин', password='ваш пароль', database='hardda')\n",
    "\n",
    "# Отправляем запрос \n",
    "result = client.execute(\"SELECT * FROM user_dm_events LIMIT 10\")\n",
    "\n",
    "# Обрабатываем результаты запроса \n",
    "for row in result: \n",
    "    print(row)\n",
    "    \n",
    "def get_data(query):\n",
    "    \"\"\"\n",
    "    Выгружает данные из ClickHouse в виде Dataframe\n",
    "\n",
    "    query - SQL запрос\n",
    "    \"\"\"\n",
    "    result, columns = client.execute(query,with_column_types=True)\n",
    "    return pd.DataFrame(result, columns=[tuple[0] for tuple in columns])\n",
    "\n",
    "query = '''\n",
    "SELECT\n",
    "  ut.type,\n",
    "  ut.passport_id,\n",
    "  region,\n",
    "  abs(sum(sign * amount)) AS revenue\n",
    "FROM\n",
    "  user_transactions AS ut\n",
    "LEFT JOIN\n",
    "  dp_live_adverts AS la ON CAST(la.advert_id, 'UInt32') = ut.advert_id AND la.execution_date = ut.payment_date\n",
    "WHERE\n",
    "  payment_date BETWEEN '2022-10-11' and '2022-10-16'\n",
    "  AND type = 'premium'\n",
    "  AND sign = -1\n",
    "  AND amount != 0\n",
    "  AND region = 'Москва'\n",
    "GROUP BY\n",
    "  ut.type,\n",
    "  ut.passport_id,\n",
    "  region'''\n",
    "\n",
    "df = get_data(query)\n",
    "df.shape"
   ],
   "metadata": {
    "collapsed": false
   },
   "id": "79c7b58d850ee53a"
  },
  {
   "cell_type": "markdown",
   "source": [
    "## Задание 1. Размер выборки (1/3)\n",
    "В продукте планируется внедрение нового функционала с целью улучшить привлекательность услуги \"premium\". Менеджеры предполагают, что это позволит увеличить среднюю выручку на 8% (поле amount).\n",
    "\n",
    "Вам необходимо определить минимально необходимый размер выборки, чтобы статистически значимо задетектить эффект при увеличении выручки на 8% с учетом мощности теста в 80% и установленного уровня значимости alpha = 0.05.\n",
    "\n",
    "Давайте решать эту задачу по шагам. В первую очередь, нам необходимо определить среднюю выручку и стандартное отклонение. И найти ожидаемую менеджером среднюю выручку с учетом ее увеличения на 8%.\n",
    "\n",
    "Введите в поле значение выручки (с точностью до двух знаков), которую хотел бы достичь менеджер."
   ],
   "metadata": {
    "collapsed": false
   },
   "id": "a0279057103b29aa"
  },
  {
   "cell_type": "code",
   "execution_count": 32,
   "id": "initial_id",
   "metadata": {
    "collapsed": true,
    "ExecuteTime": {
     "end_time": "2024-03-29T15:31:32.341297Z",
     "start_time": "2024-03-29T15:31:32.339353Z"
    }
   },
   "outputs": [],
   "source": [
    "import pandas as pd\n",
    "from savvy import expirements_metrics\n",
    "from statsmodels.stats.power import TTestIndPower, tt_ind_solve_power\n",
    "import numpy as np"
   ]
  },
  {
   "cell_type": "code",
   "outputs": [
    {
     "data": {
      "text/plain": "      type  passport_id  region  revenue\n0  premium    133570315  Москва     2210\n1  premium    125526618  Москва     1105\n2  premium    128205675  Москва     2210\n3  premium    123640858  Москва     1100\n4  premium    135304607  Москва     1105",
      "text/html": "<div>\n<style scoped>\n    .dataframe tbody tr th:only-of-type {\n        vertical-align: middle;\n    }\n\n    .dataframe tbody tr th {\n        vertical-align: top;\n    }\n\n    .dataframe thead th {\n        text-align: right;\n    }\n</style>\n<table border=\"1\" class=\"dataframe\">\n  <thead>\n    <tr style=\"text-align: right;\">\n      <th></th>\n      <th>type</th>\n      <th>passport_id</th>\n      <th>region</th>\n      <th>revenue</th>\n    </tr>\n  </thead>\n  <tbody>\n    <tr>\n      <th>0</th>\n      <td>premium</td>\n      <td>133570315</td>\n      <td>Москва</td>\n      <td>2210</td>\n    </tr>\n    <tr>\n      <th>1</th>\n      <td>premium</td>\n      <td>125526618</td>\n      <td>Москва</td>\n      <td>1105</td>\n    </tr>\n    <tr>\n      <th>2</th>\n      <td>premium</td>\n      <td>128205675</td>\n      <td>Москва</td>\n      <td>2210</td>\n    </tr>\n    <tr>\n      <th>3</th>\n      <td>premium</td>\n      <td>123640858</td>\n      <td>Москва</td>\n      <td>1100</td>\n    </tr>\n    <tr>\n      <th>4</th>\n      <td>premium</td>\n      <td>135304607</td>\n      <td>Москва</td>\n      <td>1105</td>\n    </tr>\n  </tbody>\n</table>\n</div>"
     },
     "execution_count": 33,
     "metadata": {},
     "output_type": "execute_result"
    }
   ],
   "source": [
    "df = pd.read_csv('data/expirements_metrics_data.csv')\n",
    "df.head()"
   ],
   "metadata": {
    "collapsed": false,
    "ExecuteTime": {
     "end_time": "2024-03-29T15:31:32.669813Z",
     "start_time": "2024-03-29T15:31:32.655420Z"
    }
   },
   "id": "3164c79d6378e4d0",
   "execution_count": 33
  },
  {
   "cell_type": "code",
   "outputs": [
    {
     "data": {
      "text/plain": "1624.88603988604"
     },
     "execution_count": 34,
     "metadata": {},
     "output_type": "execute_result"
    }
   ],
   "source": [
    "df.revenue.mean()"
   ],
   "metadata": {
    "collapsed": false,
    "ExecuteTime": {
     "end_time": "2024-03-29T15:31:33.062325Z",
     "start_time": "2024-03-29T15:31:33.057929Z"
    }
   },
   "id": "75d5288d44fe6ae8",
   "execution_count": 34
  },
  {
   "cell_type": "code",
   "outputs": [
    {
     "data": {
      "text/plain": "1596.5027237924753"
     },
     "execution_count": 35,
     "metadata": {},
     "output_type": "execute_result"
    }
   ],
   "source": [
    "df.revenue.std()"
   ],
   "metadata": {
    "collapsed": false,
    "ExecuteTime": {
     "end_time": "2024-03-29T15:31:33.456025Z",
     "start_time": "2024-03-29T15:31:33.453541Z"
    }
   },
   "id": "c916a0b50314da35",
   "execution_count": 35
  },
  {
   "cell_type": "code",
   "outputs": [
    {
     "data": {
      "text/plain": "1754.8769230769233"
     },
     "execution_count": 36,
     "metadata": {},
     "output_type": "execute_result"
    }
   ],
   "source": [
    "1.08*df.revenue.mean()"
   ],
   "metadata": {
    "collapsed": false,
    "ExecuteTime": {
     "end_time": "2024-03-29T15:31:35.099256Z",
     "start_time": "2024-03-29T15:31:35.094461Z"
    }
   },
   "id": "7149d00e0ab697ce",
   "execution_count": 36
  },
  {
   "cell_type": "markdown",
   "source": [
    "## Задание 1. Размер выборки (2/3)\n",
    "Найдите значение для стандартизированного эффекта (индекс Коэна).\n",
    "\n",
    "Введите ответ в поле ниже с точностью до двух знаков в десятичной части.\n",
    "\n",
    "Используйте точку для разделения целой и дробной части."
   ],
   "metadata": {
    "collapsed": false
   },
   "id": "b3c6567e012d21f3"
  },
  {
   "cell_type": "code",
   "outputs": [
    {
     "data": {
      "text/plain": "0.08146"
     },
     "execution_count": 42,
     "metadata": {},
     "output_type": "execute_result"
    }
   ],
   "source": [
    "cohen_d = expirements_metrics.calc_Cohen_d_by_params(mean_control=df.revenue.mean(),\n",
    "                                           mean_test=1.08*df.revenue.mean(),\n",
    "                                           sd_control=np.std(df.revenue),\n",
    "                                           sd_test=np.std(df.revenue))\n",
    "cohen_d"
   ],
   "metadata": {
    "collapsed": false,
    "ExecuteTime": {
     "end_time": "2024-03-29T15:33:31.000235Z",
     "start_time": "2024-03-29T15:33:30.994451Z"
    }
   },
   "id": "7e02ad62da6545ff",
   "execution_count": 42
  },
  {
   "cell_type": "markdown",
   "source": [
    "## Задание 1. Размер выборки (3/3)\n",
    "Используя рассчитанные значения, найдите минимально необходимый размер выборки, чтобы статистически значимо задетектить эффект.\n",
    "\n",
    "Введите ответ в поле ниже. В ответе должно быть целое число."
   ],
   "metadata": {
    "collapsed": false
   },
   "id": "c6ebac196671b8d2"
  },
  {
   "cell_type": "code",
   "outputs": [
    {
     "name": "stdout",
     "output_type": "stream",
     "text": [
      "Минимальный размер выборки для достижения уровня значимости: 2367\n"
     ]
    }
   ],
   "source": [
    "n = tt_ind_solve_power(effect_size = cohen_d,\n",
    "                       alpha = 0.05,\n",
    "                       power = 0.8,\n",
    "                       ratio = 1,\n",
    "                       alternative = \"two-sided\")\n",
    "print('Минимальный размер выборки для достижения уровня значимости: {:.0f}'.format(round(n)))"
   ],
   "metadata": {
    "collapsed": false,
    "ExecuteTime": {
     "end_time": "2024-03-29T15:33:34.587621Z",
     "start_time": "2024-03-29T15:33:34.581731Z"
    }
   },
   "id": "39f8b13ca0dff356",
   "execution_count": 43
  },
  {
   "cell_type": "markdown",
   "source": [
    "## Задание 2. Размер выборки с новыми параметрами эксперимента\n",
    "Менеджер предложил снизить ошибку II рода до 10%, при этом относительный эффект, который требуется задетектить, был установлен в 6%. Уровень значимости alpha остался прежним (0.05).\n",
    "\n",
    "Оцените размер выборки, который вам потребуется, чтобы задетектить стат.значимый эффект от нововведения, если он присутствует.\n",
    "\n",
    "Введите ответ в поле ниже. В ответе должно быть целое число.\n",
    "\n",
    "Попробуйте изобразить графически, как будет меняться размер эффекта, который можно зафиксировать, в зависимости от размера выборки, выбранной мощности теста и уровня значимости"
   ],
   "metadata": {
    "collapsed": false
   },
   "id": "603cda9b57762d18"
  },
  {
   "cell_type": "code",
   "outputs": [
    {
     "name": "stdout",
     "output_type": "stream",
     "text": [
      "Минимальный размер выборки для достижения уровня значимости: 5630\n"
     ]
    }
   ],
   "source": [
    "cohen_d = expirements_metrics.calc_Cohen_d_by_params(mean_control=df.revenue.mean(),\n",
    "                                           mean_test=1.06*df.revenue.mean(),\n",
    "                                           sd_control=np.std(df.revenue),\n",
    "                                           sd_test=np.std(df.revenue))\n",
    "n = tt_ind_solve_power(effect_size = cohen_d,\n",
    "                       alpha = 0.05,\n",
    "                       power = 0.9,\n",
    "                       ratio = 1,\n",
    "                       alternative = \"two-sided\")\n",
    "print('Минимальный размер выборки для достижения уровня значимости: {:.0f}'.format(round(n)))"
   ],
   "metadata": {
    "collapsed": false,
    "ExecuteTime": {
     "end_time": "2024-03-29T14:20:35.384893Z",
     "start_time": "2024-03-29T14:20:35.378221Z"
    }
   },
   "id": "18a02ca6bb77ebde",
   "execution_count": 19
  },
  {
   "cell_type": "markdown",
   "source": [
    "## Задание 3. Размер эффекта\n",
    "Имеется несбалансированная выборка из 100 тыс. пользователей, где соотношение между группами составляет 80:20 (на 20% пользователей распространяется нововведение, а на 80% нет: ratio = n2/n1 = 0.25). Дизайн теста предполагает вероятность в 5% совершить ошибку I рода и допущение в 20% совершить ошибку II рода.\n",
    "\n",
    "Определите размер эффекта, который мы сможем задетектить при заданном дизайне эксперимента.\n",
    "\n",
    "Введите ответ в поле ниже с точностью до ТРЕХ знаков в десятичной части.\n",
    "\n",
    "Используйте точку для разделения целой и дробной части."
   ],
   "metadata": {
    "collapsed": false
   },
   "id": "980595d635d0e22f"
  },
  {
   "cell_type": "code",
   "outputs": [
    {
     "data": {
      "text/plain": "0.022146842824624806"
     },
     "execution_count": 46,
     "metadata": {},
     "output_type": "execute_result"
    }
   ],
   "source": [
    "effect_size = tt_ind_solve_power(effect_size = None,\n",
    "                       alpha = 0.05,\n",
    "                       power = 0.8,\n",
    "                       ratio = 20000/80000,\n",
    "                       nobs1 = 80000,\n",
    "                       alternative = \"two-sided\")\n",
    "effect_size"
   ],
   "metadata": {
    "collapsed": false,
    "ExecuteTime": {
     "end_time": "2024-03-29T15:35:50.690804Z",
     "start_time": "2024-03-29T15:35:50.684997Z"
    }
   },
   "id": "26166847cd60e136",
   "execution_count": 46
  },
  {
   "cell_type": "markdown",
   "source": [
    "## Задание 4. Эффект Коэна (1/2)\n",
    "Максимальный размер в двух выборках, доступный вам, равен 100 тыс. пользователей. Определите, при каком соотношении между контрольной и тестовой группами (n2/n1) мы сможем задетектить минимальное значение размера эффекта (Cohen's D) при уровне значимости alpha = 0.05 и мощности теста = 80% и стат критерии t-test.\n",
    "\n",
    "Для решения используйте симуляции, получая различные соотношения между двумя группами."
   ],
   "metadata": {
    "collapsed": false
   },
   "id": "ffaeffd3ac52f489"
  },
  {
   "cell_type": "code",
   "outputs": [
    {
     "data": {
      "text/plain": "<Figure size 640x480 with 1 Axes>",
      "image/png": "[encoded data removed]"
     },
     "metadata": {},
     "output_type": "display_data"
    }
   ],
   "source": [
    "import matplotlib.pyplot as plt\n",
    "\n",
    "ratios, effect_size = [], []\n",
    "for ratio in range(50,100,1):\n",
    "    ratios.append(ratio/100)\n",
    "    ratio = ratio/100\n",
    "    effect_size.append(tt_ind_solve_power(effect_size = None,\n",
    "                           alpha = 0.05,\n",
    "                           power = 0.8,\n",
    "                           ratio = ratio/100,\n",
    "                           nobs1 = 100000-ratio*100000,\n",
    "                           alternative = \"two-sided\"))\n",
    "plt.plot(ratios, effect_size)\n",
    "plt.xlabel('ratio')\n",
    "plt.ylabel('effect size')\n",
    "plt.grid(True)\n",
    "plt.show()"
   ],
   "metadata": {
    "collapsed": false,
    "ExecuteTime": {
     "end_time": "2024-03-29T15:41:50.369951Z",
     "start_time": "2024-03-29T15:41:50.213077Z"
    }
   },
   "id": "98c7f91f1ac064a9",
   "execution_count": 55
  },
  {
   "cell_type": "markdown",
   "source": [
    "При ratio = 1"
   ],
   "metadata": {
    "collapsed": false
   },
   "id": "dc91780c9eaa50fc"
  },
  {
   "cell_type": "markdown",
   "source": [
    "## Задание 4. Эффект Коэна (2/2)\n",
    "Чему будет равна величина минимального эффекта - Cohen's D?\n",
    "\n",
    "Введите ответ в поле ниже с точностью до ТРЕХ знаков в десятичной части.\n",
    "\n",
    "Используйте точку для разделения целой и дробной части."
   ],
   "metadata": {
    "collapsed": false
   },
   "id": "65d36f90f9ce58d"
  },
  {
   "cell_type": "code",
   "outputs": [
    {
     "data": {
      "text/plain": "0.17763349343959106"
     },
     "execution_count": 56,
     "metadata": {},
     "output_type": "execute_result"
    }
   ],
   "source": [
    "min(effect_size)"
   ],
   "metadata": {
    "collapsed": false,
    "ExecuteTime": {
     "end_time": "2024-03-29T15:42:05.126426Z",
     "start_time": "2024-03-29T15:42:05.124020Z"
    }
   },
   "id": "70bd3330d119a792",
   "execution_count": 56
  },
  {
   "cell_type": "code",
   "outputs": [],
   "source": [],
   "metadata": {
    "collapsed": false
   },
   "id": "5afa89035b3176db"
  }
 ],
 "metadata": {
  "kernelspec": {
   "display_name": "Python 3",
   "language": "python",
   "name": "python3"
  },
  "language_info": {
   "codemirror_mode": {
    "name": "ipython",
    "version": 2
   },
   "file_extension": ".py",
   "mimetype": "text/x-python",
   "name": "python",
   "nbconvert_exporter": "python",
   "pygments_lexer": "ipython2",
   "version": "2.7.6"
  }
 },
 "nbformat": 4,
 "nbformat_minor": 5
}
